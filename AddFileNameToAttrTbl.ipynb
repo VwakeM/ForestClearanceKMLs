{
 "cells": [
  {
   "cell_type": "code",
   "execution_count": 14,
   "metadata": {},
   "outputs": [],
   "source": [
    "import arcpy, os, sys\n",
    "from arcpy import env"
   ]
  },
  {
   "cell_type": "code",
   "execution_count": null,
   "metadata": {},
   "outputs": [],
   "source": [
    "# Allow for file overwrite\n",
    "arcpy.env.overwriteOutput = True\n",
    "\n",
    "# Set the workspace directory \n",
    "env.workspace = r\"C:\\Users\\12147\\Desktop\\Linear Intrusions\\ForestClearanceKMLs-master\\ForestClearanceKMLs-master\\Projects_2021\" \n",
    "\n",
    "# Get the list of the featureclasses to process\n",
    "fc_tables = arcpy.ListFeatureClasses()\n",
    "\n",
    "# Loop through each file and perform the processing\n",
    "for fc in fc_tables:\n",
    "    #print str(\"processing \" + fc)\n",
    "\n",
    "    # Define field name and expression\n",
    "    field = \"FILENAME\"\n",
    "    expression = str(fc) \n",
    "    \n",
    "    # split file name and retain strings upto year. Convert _ to /. \n",
    "    expression = ('/'.join(expression.split('_')[:5]))\n",
    "\n",
    "    # Create a new field with a new name\n",
    "    arcpy.AddField_management(fc,field,\"TEXT\")\n",
    "\n",
    "    # Calculate field here\n",
    "    arcpy.CalculateField_management(fc, field, '\"'+expression+'\"', \"PYTHON\")"
   ]
  }
 ],
 "metadata": {
  "kernelspec": {
   "display_name": "Python 3",
   "language": "python",
   "name": "python3"
  },
  "language_info": {
   "codemirror_mode": {
    "name": "ipython",
    "version": 3
   },
   "file_extension": ".py",
   "mimetype": "text/x-python",
   "name": "python",
   "nbconvert_exporter": "python",
   "pygments_lexer": "ipython3",
   "version": "3.6.10"
  }
 },
 "nbformat": 4,
 "nbformat_minor": 4
}
