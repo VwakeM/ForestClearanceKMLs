{
 "cells": [
  {
   "cell_type": "code",
   "execution_count": 1,
   "metadata": {},
   "outputs": [],
   "source": [
    "import arcpy, os, sys\n",
    "from arcpy import env"
   ]
  },
  {
   "cell_type": "code",
   "execution_count": null,
   "metadata": {},
   "outputs": [],
   "source": [
    "# Allow for file overwrite\n",
    "arcpy.env.overwriteOutput = True\n",
    "\n",
    "# Set the workspace directory \n",
    "env.workspace = r\"C:\\Users\\12147\\Desktop\\Linear Intrusions\\ForestClearanceKMLs-master\\ForestClearanceKMLs-master\\Projects_2021\" \n",
    "\n",
    "# Get the list of the featureclasses to process\n",
    "fc_tables = arcpy.ListFeatureClasses()\n",
    "\n",
    "# Loop through each file and perform the processing\n",
    "for fc in fc_tables:\n",
    "    #print str(\"processing \" + fc)\n",
    "\n",
    "    # Define field name and expression\n",
    "    field = \"FILENAME\"\n",
    "    expression = str(fc) \n",
    "    \n",
    "    # split file name and retain strings upto year. Convert _ to /. \n",
    "    expression = ('/'.join(expression.split('_')[:5]))\n",
    "\n",
    "    # Create a new field with a new name\n",
    "    arcpy.AddField_management(fc,field,\"TEXT\")\n",
    "\n",
    "    # Calculate field here\n",
    "    arcpy.CalculateField_management(fc, field, '\"'+expression+'\"', \"PYTHON\")"
   ]
  },
  {
   "cell_type": "code",
   "execution_count": 8,
   "metadata": {},
   "outputs": [
    {
     "data": {
      "text/html": [
       "<h2>Output</h2>C:/Users/12147/Documents/ArcGIS/Projects/PariveshDataAnalysis\\fGDB.gdb<h2>Messages</h2>Start Time: Tuesday, January 12, 2021 10:47:16 PM<br/>Succeeded at Tuesday, January 12, 2021 10:47:16 PM (Elapsed Time: 0.65 seconds)<br/><style>.rendered_html td, .rendered_html th {text-align: left;}.rendered_html tbody {border: 1px solid black;}</style>"
      ],
      "text/plain": [
       "<Result 'C:/Users/12147/Documents/ArcGIS/Projects/PariveshDataAnalysis\\\\fGDB.gdb'>"
      ]
     },
     "execution_count": 8,
     "metadata": {},
     "output_type": "execute_result"
    }
   ],
   "source": [
    "gdb = r\"C:/Users/12147/Documents/ArcGIS/Projects/PariveshDataAnalysis/fGDB.gdb\"\n",
    "arcpy.CreateFileGDB_management(\"C:/Users/12147/Documents/ArcGIS/Projects/PariveshDataAnalysis/\", \"fGDB.gdb\")"
   ]
  },
  {
   "cell_type": "code",
   "execution_count": 11,
   "metadata": {},
   "outputs": [
    {
     "data": {
      "text/html": [
       "<h2>Output</h2>C:\\Users\\12147\\Documents\\ArcGIS\\Projects\\PariveshDataAnalysis\\fGDB.dbf<h2>Messages</h2>Start Time: Tuesday, January 12, 2021 10:56:52 PM<br/>Succeeded at Tuesday, January 12, 2021 10:56:54 PM (Elapsed Time: 2.26 seconds)<br/><style>.rendered_html td, .rendered_html th {text-align: left;}.rendered_html tbody {border: 1px solid black;}</style>"
      ],
      "text/plain": [
       "<Result 'C:\\\\Users\\\\12147\\\\Documents\\\\ArcGIS\\\\Projects\\\\PariveshDataAnalysis\\\\fGDB.dbf'>"
      ]
     },
     "execution_count": 11,
     "metadata": {},
     "output_type": "execute_result"
    }
   ],
   "source": [
    "gdb = r\"C:/Users/12147/Documents/ArcGIS/Projects/PariveshDataAnalysis/fGDB.gdb\"\n",
    "arcpy.conversion.ExcelToTable(\"C:/Users/12147/Desktop/Linear Intrusions/ForestClearanceKMLs-master/ForestClearanceKMLs-master/Records2017.xlsx\", gdb)"
   ]
  },
  {
   "cell_type": "code",
   "execution_count": 14,
   "metadata": {},
   "outputs": [
    {
     "name": "stdout",
     "output_type": "stream",
     "text": [
      "['fGDB.dbf']\n"
     ]
    },
    {
     "data": {
      "text/html": [
       "<h2>Output</h2>C:\\Users\\12147\\Documents\\ArcGIS\\Projects\\PariveshDataAnalysis\\Parivesh.gdb<h2>Messages</h2>Start Time: Tuesday, January 12, 2021 11:06:33 PM<br/>Converted C:/Users/12147/Documents/ArcGIS/Projects/PariveshDataAnalysis\\fGDB.dbf to C:/Users/12147/Documents/ArcGIS/Projects/PariveshDataAnalysis/Parivesh.gdb\\fGDB successfully.<br/>Succeeded at Tuesday, January 12, 2021 11:06:36 PM (Elapsed Time: 3.03 seconds)<br/><style>.rendered_html td, .rendered_html th {text-align: left;}.rendered_html tbody {border: 1px solid black;}</style>"
      ],
      "text/plain": [
       "<Result 'C:\\\\Users\\\\12147\\\\Documents\\\\ArcGIS\\\\Projects\\\\PariveshDataAnalysis\\\\Parivesh.gdb'>"
      ]
     },
     "execution_count": 14,
     "metadata": {},
     "output_type": "execute_result"
    }
   ],
   "source": [
    "env.workspace = r\"C:/Users/12147/Documents/ArcGIS/Projects/PariveshDataAnalysis/\" \n",
    "tables = arcpy.ListTables()\n",
    "print(tables)\n",
    "arcpy.TableToGeodatabase_conversion(tables, \"C:/Users/12147/Documents/ArcGIS/Projects/PariveshDataAnalysis/Parivesh.gdb\")"
   ]
  },
  {
   "cell_type": "code",
   "execution_count": 7,
   "metadata": {},
   "outputs": [
    {
     "data": {
      "text/html": [
       "<h2>Output</h2>C:\\Users\\12147\\Documents\\ArcGIS\\Projects\\PariveshDataAnalysis\\output.gdb<h2>Messages</h2>Start Time: Tuesday, January 12, 2021 10:45:24 PM<br/>C:\\Users\\12147\\Desktop\\Linear Intrusions\\ForestClearanceKMLs-master\\ForestClearanceKMLs-master\\Projects_2021\\FP_KA_Approach_117446_2020_111212212149CQHWBenakinamadagu_ProposedRoad_CarriageWay.shp Successfully converted:  C:/Users/12147/Documents/ArcGIS/Projects/PariveshDataAnalysis/output.gdb\\FP_KA_Approach_117446_2020_111212212149CQHWBenakinamadagu_ProposedRoad_CarriageWay_2<br/>C:\\Users\\12147\\Desktop\\Linear Intrusions\\ForestClearanceKMLs-master\\ForestClearanceKMLs-master\\Projects_2021\\FP_KA_Approach_117446_2020_11121221214G6KYMBenakinamadagu_ProposedRoadForestAreaboundary.shp Successfully converted:  C:/Users/12147/Documents/ArcGIS/Projects/PariveshDataAnalysis/output.gdb\\FP_KA_Approach_117446_2020_11121221214G6KYMBenakinamadagu_ProposedRoadForestAreaboundary_2<br/>C:\\Users\\12147\\Desktop\\Linear Intrusions\\ForestClearanceKMLs-master\\ForestClearanceKMLs-master\\Projects_2021\\FP_KA_Approach_117446_2020_11121221214G6KYMBenakinamadagu_ProposedRoad_NonForestAreaboundary.shp Successfully converted:  C:/Users/12147/Documents/ArcGIS/Projects/PariveshDataAnalysis/output.gdb\\FP_KA_Approach_117446_2020_11121221214G6KYMBenakinamadagu_ProposedRoad_NonForestAreaboundary_2<br/>C:\\Users\\12147\\Desktop\\Linear Intrusions\\ForestClearanceKMLs-master\\ForestClearanceKMLs-master\\Projects_2021\\FP_KA_Approach_117446_2020_11121221214J8XA9Benakinamadagu_ProposedRoad_Drains.shp Successfully converted:  C:/Users/12147/Documents/ArcGIS/Projects/PariveshDataAnalysis/output.gdb\\FP_KA_Approach_117446_2020_11121221214J8XA9Benakinamadagu_ProposedRoad_Drains_2<br/>C:\\Users\\12147\\Desktop\\Linear Intrusions\\ForestClearanceKMLs-master\\ForestClearanceKMLs-master\\Projects_2021\\FP_KA_Approach_117446_2020_11121221214WXBIWBenakinamadagu_ProposedRoad_Shoulders.shp Successfully converted:  C:/Users/12147/Documents/ArcGIS/Projects/PariveshDataAnalysis/output.gdb\\FP_KA_Approach_117446_2020_11121221214WXBIWBenakinamadagu_ProposedRoad_Shoulders_2<br/>C:\\Users\\12147\\Desktop\\Linear Intrusions\\ForestClearanceKMLs-master\\ForestClearanceKMLs-master\\Projects_2021\\FP_KA_ROAD_118692_2021_1116125412102MODBForestpatch1.shp Successfully converted:  C:/Users/12147/Documents/ArcGIS/Projects/PariveshDataAnalysis/output.gdb\\FP_KA_ROAD_118692_2021_1116125412102MODBForestpatch1_2<br/>C:\\Users\\12147\\Desktop\\Linear Intrusions\\ForestClearanceKMLs-master\\ForestClearanceKMLs-master\\Projects_2021\\FP_KA_ROAD_118692_2021_1116125412102MODBForestpatch2.shp Successfully converted:  C:/Users/12147/Documents/ArcGIS/Projects/PariveshDataAnalysis/output.gdb\\FP_KA_ROAD_118692_2021_1116125412102MODBForestpatch2_2<br/>C:\\Users\\12147\\Desktop\\Linear Intrusions\\ForestClearanceKMLs-master\\ForestClearanceKMLs-master\\Projects_2021\\FP_KA_ROAD_118692_2021_111612541210FKBS7Forestpatch3.shp Successfully converted:  C:/Users/12147/Documents/ArcGIS/Projects/PariveshDataAnalysis/output.gdb\\FP_KA_ROAD_118692_2021_111612541210FKBS7Forestpatch3_2<br/>C:\\Users\\12147\\Desktop\\Linear Intrusions\\ForestClearanceKMLs-master\\ForestClearanceKMLs-master\\Projects_2021\\FP_KA_SCH_83641_2020_121110122612150QR3YUntitledPolygon.shp Successfully converted:  C:/Users/12147/Documents/ArcGIS/Projects/PariveshDataAnalysis/output.gdb\\FP_KA_SCH_83641_2020_121110122612150QR3YUntitledPolygon_2<br/>Succeeded at Tuesday, January 12, 2021 10:45:49 PM (Elapsed Time: 25.03 seconds)<br/><style>.rendered_html td, .rendered_html th {text-align: left;}.rendered_html tbody {border: 1px solid black;}</style>"
      ],
      "text/plain": [
       "<Result 'C:\\\\Users\\\\12147\\\\Documents\\\\ArcGIS\\\\Projects\\\\PariveshDataAnalysis\\\\output.gdb'>"
      ]
     },
     "execution_count": 7,
     "metadata": {},
     "output_type": "execute_result"
    }
   ],
   "source": [
    "arcpy.env.workspace = r\"C:\\Users\\12147\\Desktop\\Linear Intrusions\\ForestClearanceKMLs-master\\ForestClearanceKMLs-master\\Projects_2021\" \n",
    "fcs = arcpy.ListFeatureClasses()\n",
    "arcpy.FeatureClassToGeodatabase_conversion(fcs, 'C:/Users/12147/Documents/ArcGIS/Projects/PariveshDataAnalysis/output.gdb')"
   ]
  },
  {
   "cell_type": "code",
   "execution_count": null,
   "metadata": {},
   "outputs": [],
   "source": []
  }
 ],
 "metadata": {
  "kernelspec": {
   "display_name": "Python 3",
   "language": "python",
   "name": "python3"
  },
  "language_info": {
   "codemirror_mode": {
    "name": "ipython",
    "version": 3
   },
   "file_extension": ".py",
   "mimetype": "text/x-python",
   "name": "python",
   "nbconvert_exporter": "python",
   "pygments_lexer": "ipython3",
   "version": "3.6.10"
  }
 },
 "nbformat": 4,
 "nbformat_minor": 4
}
