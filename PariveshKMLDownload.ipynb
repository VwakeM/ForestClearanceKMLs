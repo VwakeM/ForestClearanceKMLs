{
 "cells": [
  {
   "cell_type": "markdown",
   "metadata": {},
   "source": [
    "#### Jupyter Notebook to scrape kml files from the Forest clearance portal, Ministry of Environment and Forests, India.  \n",
    "##### This notebook downloads KMLs in separate folders by project id. "
   ]
  },
  {
   "cell_type": "code",
   "execution_count": 10,
   "metadata": {},
   "outputs": [],
   "source": [
    "import requests\n",
    "from bs4 import BeautifulSoup\n",
    "import pandas as pd\n",
    "import os\n",
    "\n",
    "pd.set_option('display.max_columns', None)\n",
    "pd.set_option('display.max_rows', None)"
   ]
  },
  {
   "cell_type": "code",
   "execution_count": 11,
   "metadata": {},
   "outputs": [],
   "source": [
    "def downloadKMLForProject(project_id):\n",
    "    \n",
    "    response = requests.get('http://forestsclearance.nic.in/viewreport.aspx?pid=' + project_id)\n",
    "    soup = BeautifulSoup(response.text, \"html.parser\")\n",
    "    dw_links = soup.select('a[href*=\"download.aspx?files=writereaddata/FormA/Segment\"]')\n",
    "        \n",
    "    folder = os. getcwd() + \"/KML/\" + project_id.replace('/','_') \n",
    "    os.mkdir(folder)\n",
    "    \n",
    "    for link in dw_links:\n",
    "        \n",
    "        download = requests.get('http://forestsclearance.nic.in/'+ link.get('href'))\n",
    "        file = folder + '/' + link.get('href').rsplit('/')[-1]\n",
    "        # print(file)\n",
    "        open(file, 'wb').write(download.content)\n",
    "    \n",
    "    return"
   ]
  },
  {
   "cell_type": "code",
   "execution_count": null,
   "metadata": {},
   "outputs": [],
   "source": [
    "df = pd.read_excel(os. getcwd() + '/Roads/Records.xlsx', index_col=0)\n",
    "\n",
    "for index, row in df.iterrows():\n",
    "    downloadKMLForProject(row['Proposal_no'])"
   ]
  }
 ],
 "metadata": {
  "kernelspec": {
   "display_name": "Python 3",
   "language": "python",
   "name": "python3"
  },
  "language_info": {
   "codemirror_mode": {
    "name": "ipython",
    "version": 3
   },
   "file_extension": ".py",
   "mimetype": "text/x-python",
   "name": "python",
   "nbconvert_exporter": "python",
   "pygments_lexer": "ipython3",
   "version": "3.6.9"
  }
 },
 "nbformat": 4,
 "nbformat_minor": 2
}
