{
 "cells": [
  {
   "cell_type": "markdown",
   "metadata": {},
   "source": [
    "#### Jupyter Notebook to scrape kml files from the Forest clearance portal, Ministry of Environment and Forests, India.  \n",
    "##### This notebook downloads all the files in a single folder. "
   ]
  },
  {
   "cell_type": "code",
   "execution_count": 44,
   "metadata": {},
   "outputs": [],
   "source": [
    "import requests\n",
    "from bs4 import BeautifulSoup\n",
    "import pandas as pd\n",
    "import os\n",
    "import pathlib\n",
    "import urllib.parse\n",
    "import re\n",
    "\n",
    "\n",
    "pd.set_option('display.max_columns', None)\n",
    "pd.set_option('display.max_rows', None)"
   ]
  },
  {
   "cell_type": "code",
   "execution_count": 45,
   "metadata": {},
   "outputs": [],
   "source": [
    "def downloadKMLForProject(project_id):\n",
    "    \n",
    "    response = requests.get('http://forestsclearance.nic.in/viewreport.aspx?pid=' + project_id)\n",
    "    soup = BeautifulSoup(response.text, \"html.parser\")\n",
    "    \n",
    "    folder = os. getcwd() + \"/Projects_2019\" \n",
    "    \n",
    "    if(os.path.isdir(folder) == False):\n",
    "        os.mkdir(folder)\n",
    "        \n",
    "    # Get all <a> tags containing href with link to download link only \n",
    "    #there are other links which navigate to a different web page which we do not want\n",
    "    links = soup.find_all(\"a\", href=re.compile(\"DownloadPdfFile\")) \n",
    "    \n",
    "    for link in links:\n",
    "        \n",
    "        # Extract href from <a>\n",
    "        href = link['href']\n",
    "        \n",
    "         # Parse href to get query string. \n",
    "        url = urllib.parse.urlparse(href)\n",
    "        \n",
    "        # Parse query string to get file name only. \n",
    "        params = urllib.parse.parse_qs(url.query)\n",
    "         \n",
    "        if 'FileName' in params: \n",
    "            filename = project_id.replace('/','_') + '_' + params['FileName'][0] \n",
    "        \n",
    "        # Download KML files only.\n",
    "        if (pathlib.Path(filename).suffix == '.kml'):        \n",
    "            downloadURL = requests.get('http://forestsclearance.nic.in/'+ href)\n",
    "            file = folder + '/' + filename    \n",
    "            print(href)\n",
    "            open(file, 'wb').write(downloadURL.content)\n",
    "            \n",
    "    return"
   ]
  },
  {
   "cell_type": "code",
   "execution_count": null,
   "metadata": {},
   "outputs": [
    {
     "name": "stdout",
     "output_type": "stream",
     "text": [
      "../DownloadPdfFile.aspx?FileName=711212321218OZLMAC(ii)(b).kml&FilePath=../writereaddata/FormA/Segment/\n",
      "../DownloadPdfFile.aspx?FileName=0_0_4111312401215_mapgps_L4.kml&FilePath=../writereaddata/FormA/CAScheme/GPSFile/\n",
      "../DownloadPdfFile.aspx?FileName=121124124412151LO2RCCRoad.kml&FilePath=../writereaddata/FormA/Segment/\n",
      "../DownloadPdfFile.aspx?FileName=0_0_12111712581213_mapgps_sulikerenonforestland.kml&FilePath=../writereaddata/FormA/CAScheme/GPSFile/\n",
      "../DownloadPdfFile.aspx?FileName=121118125612164JDKTROW-PKG-2(1).kml&FilePath=../writereaddata/FormA/Segment/\n",
      "../DownloadPdfFile.aspx?FileName=1211712221214CB6MHforestareaappliedforapproachroad3HA.kml&FilePath=../writereaddata/FormA/patch/\n",
      "../DownloadPdfFile.aspx?FileName=1211712221214IOABEforestareaappliedforapproachroad2HA.kml&FilePath=../writereaddata/FormA/patch/\n",
      "../DownloadPdfFile.aspx?FileName=1211712221214IOABEforestareaappliedforapproachroad4HA.kml&FilePath=../writereaddata/FormA/patch/\n",
      "../DownloadPdfFile.aspx?FileName=1211712221214IOABEforestlandappliedforquarryuchangidurga.kml&FilePath=../writereaddata/FormA/Segment/\n",
      "../DownloadPdfFile.aspx?FileName=1211712221214SZDA8forestareaappliedforquarry.kml&FilePath=../writereaddata/FormA/Segment/\n",
      "../DownloadPdfFile.aspx?FileName=1211712221214Y19MUForestareaappliedforquarry.kml&FilePath=../writereaddata/FormA/Segment/\n",
      "../DownloadPdfFile.aspx?FileName=0_0_1211412241221_mapgps_CALANDFINAL.kml&FilePath=../writereaddata/FormA/CAScheme/GPSFile/\n",
      "../DownloadPdfFile.aspx?FileName=12115123512149BUQZProposedtransmissioline.kml&FilePath=../writereaddata/FormA/Segment/\n",
      "../DownloadPdfFile.aspx?FileName=1211312511218SR8M0Land.kml&FilePath=../writereaddata/FormA/Segment/\n",
      "../DownloadPdfFile.aspx?FileName=7113012531213Y7B5LNARAYANPURAMINE.kml&FilePath=../writereaddata/FormA/patch/\n",
      "../DownloadPdfFile.aspx?FileName=7113012541213WACMNARAYANPURAMINE.kml&FilePath=../writereaddata/FormA/Miningletter/\n",
      "../DownloadPdfFile.aspx?FileName=11112212491210GHD3AProposedArea.kml&FilePath=../writereaddata/FormA/patch/\n",
      "../DownloadPdfFile.aspx?FileName=111101211263JRUHAuradhSadashivagdSH34KMLFile.kml&FilePath=../writereaddata/FormA/Segment/\n",
      "../DownloadPdfFile.aspx?FileName=1112412421219KCNAYKMLFINAL.kml&FilePath=../writereaddata/FormA/patch/\n",
      "../DownloadPdfFile.aspx?FileName=0_0_9113012401211_mapgps_FINALKML.kml&FilePath=../writereaddata/FormA/CAScheme/GPSFile/\n",
      "../DownloadPdfFile.aspx?FileName=1211101261213FKN0NewExistingouterboundaryalongwithproposedarea.kml&FilePath=../writereaddata/FormA/Miningletter/\n",
      "../DownloadPdfFile.aspx?FileName=11131123812128Z1TLProposedArea.kml&FilePath=../writereaddata/FormA/patch/\n",
      "../DownloadPdfFile.aspx?FileName=111116125012134CHF3Proposedarea.kml&FilePath=../writereaddata/FormA/Segment/\n",
      "../DownloadPdfFile.aspx?FileName=11111212191217KB6G7finalkml.kml&FilePath=../writereaddata/FormA/Segment/\n",
      "../DownloadPdfFile.aspx?FileName=1111211243129UO9LELand.kml&FilePath=../writereaddata/FormA/Segment/\n",
      "../DownloadPdfFile.aspx?FileName=111181243121049581Land.kml&FilePath=../writereaddata/FormA/Segment/\n",
      "../DownloadPdfFile.aspx?FileName=0_0_1111812311211_mapgps_Land.kml&FilePath=../writereaddata/FormA/CAScheme/GPSFile/\n",
      "../DownloadPdfFile.aspx?FileName=111161241216AT3POLand.kml&FilePath=../writereaddata/FormA/patch/\n",
      "../DownloadPdfFile.aspx?FileName=7112124812108UOVO110KV_Thyagarthi_with_Forest_Non_Forest_Final.kml&FilePath=../writereaddata/FormA/Segment/\n",
      "../DownloadPdfFile.aspx?FileName=12112112561217WVX90FORESTAREAPATCH-I(Sagar).kml&FilePath=../writereaddata/FormA/Segment/\n",
      "../DownloadPdfFile.aspx?FileName=12112112551217XQEQ3FORESTAREAPATCH-II.kml&FilePath=../writereaddata/FormA/Segment/\n",
      "../DownloadPdfFile.aspx?FileName=0_0_911712301221_mapgps_ProposedCALandatNagodiVillage.kml&FilePath=../writereaddata/FormA/CAScheme/GPSFile/\n",
      "../DownloadPdfFile.aspx?FileName=11113124312207BDAN50mtrCorridor.kml&FilePath=../writereaddata/FormA/patch/\n",
      "../DownloadPdfFile.aspx?FileName=1111312431220DWYTPServiceBuilding.kml&FilePath=../writereaddata/FormA/patch/\n",
      "../DownloadPdfFile.aspx?FileName=11113124312200QHR2VCB.kml&FilePath=../writereaddata/FormA/patch/\n",
      "../DownloadPdfFile.aspx?FileName=11113124312200QHR2Road_Eline.kml&FilePath=../writereaddata/FormA/Segment/\n"
     ]
    }
   ],
   "source": [
    "df = pd.read_excel(os. getcwd() + '/Records2019.xlsx', index_col=0)\n",
    "\n",
    "for index, row in df.iterrows():\n",
    "    downloadKMLForProject(row['Proposal_no'])"
   ]
  },
  {
   "cell_type": "code",
   "execution_count": null,
   "metadata": {},
   "outputs": [],
   "source": []
  },
  {
   "cell_type": "code",
   "execution_count": null,
   "metadata": {},
   "outputs": [],
   "source": []
  }
 ],
 "metadata": {
  "kernelspec": {
   "display_name": "Python 3",
   "language": "python",
   "name": "python3"
  },
  "language_info": {
   "codemirror_mode": {
    "name": "ipython",
    "version": 3
   },
   "file_extension": ".py",
   "mimetype": "text/x-python",
   "name": "python",
   "nbconvert_exporter": "python",
   "pygments_lexer": "ipython3",
   "version": "3.6.10"
  }
 },
 "nbformat": 4,
 "nbformat_minor": 2
}
