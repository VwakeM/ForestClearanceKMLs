{
 "cells": [
  {
   "cell_type": "code",
   "execution_count": 6,
   "metadata": {},
   "outputs": [],
   "source": [
    "import arcpy, os, sys\n",
    "from arcpy import env"
   ]
  },
  {
   "cell_type": "code",
   "execution_count": 12,
   "metadata": {},
   "outputs": [],
   "source": [
    "# Allow for file overwrite\n",
    "arcpy.env.overwriteOutput = True\n",
    "\n",
    "# Set the workspace directory \n",
    "env.workspace = r\"C:\\Users\\12147\\Documents\\ArcGIS\\Projects\\PariveshDataAnalysis\\Parivesh.gdb\" \n",
    "\n",
    "# Get the list of the featureclasses to process\n",
    "fc_tables = arcpy.ListFeatureClasses()"
   ]
  },
  {
   "cell_type": "code",
   "execution_count": null,
   "metadata": {},
   "outputs": [],
   "source": [
    "# Loop through each file and perform the processing\n",
    "for fc in fc_tables:\n",
    "    arcpy.JoinField_management(fc, \"FILENAME\",\"Records2021\", \"Proposal_n\", [\"category\",\"Proposal_1\", \"user_agenc\", \"area_appli\", \"date_from_\", \"proposal_s\", \"date_of_re\"] )"
   ]
  }
 ],
 "metadata": {
  "kernelspec": {
   "display_name": "Python 3",
   "language": "python",
   "name": "python3"
  },
  "language_info": {
   "codemirror_mode": {
    "name": "ipython",
    "version": 3
   },
   "file_extension": ".py",
   "mimetype": "text/x-python",
   "name": "python",
   "nbconvert_exporter": "python",
   "pygments_lexer": "ipython3",
   "version": "3.6.10"
  }
 },
 "nbformat": 4,
 "nbformat_minor": 4
}
